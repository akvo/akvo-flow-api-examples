{
 "cells": [
  {
   "cell_type": "code",
   "execution_count": null,
   "id": "fb5bb1bb",
   "metadata": {
    "ExecuteTime": {
     "end_time": "2022-09-15T11:58:36.973019Z",
     "start_time": "2022-09-15T11:58:35.894361Z"
    }
   },
   "outputs": [],
   "source": [
    "from os import environ\n",
    "from flow_handler import flow_handler, parse_data\n",
    "import json\n",
    "import requests as r\n",
    "import pandas as pd\n",
    "import logging"
   ]
  },
  {
   "cell_type": "code",
   "execution_count": null,
   "id": "7bf1339e",
   "metadata": {
    "ExecuteTime": {
     "end_time": "2022-09-15T11:58:37.002674Z",
     "start_time": "2022-09-15T11:58:36.994162Z"
    }
   },
   "outputs": [],
   "source": [
    "# SURVEY ID CAN BE FOUND ON https://webform.akvotest.org/\n",
    "INSTANCE = \"seap\"\n",
    "SURVEY_ID = 290080914\n",
    "FORM_ID = 300160915\n",
    "DEBUG_PRINT = False\n",
    "# LIMIT DATA: False / Any Number\n",
    "LIMIT_DATA = False"
   ]
  },
  {
   "cell_type": "code",
   "execution_count": null,
   "id": "ded97e4c",
   "metadata": {
    "ExecuteTime": {
     "end_time": "2022-09-15T11:58:37.012593Z",
     "start_time": "2022-09-15T11:58:37.006824Z"
    }
   },
   "outputs": [],
   "source": [
    "baseURI = f'https://api-auth0.akvo.org/flow/orgs/{INSTANCE}'\n",
    "envs = [\"AUTH0_CLIENT_ID\",\"FLOW_USERNAME\",\"FLOW_PASSWORD\"]\n",
    "for env in envs:\n",
    "    if env not in environ:\n",
    "        logging.error(f\"{env} NOT FOUND\")"
   ]
  },
  {
   "cell_type": "code",
   "execution_count": null,
   "id": "43bc9793",
   "metadata": {
    "ExecuteTime": {
     "end_time": "2022-09-15T11:58:37.029732Z",
     "start_time": "2022-09-15T11:58:37.022393Z"
    }
   },
   "outputs": [],
   "source": [
    "def get_access_token():\n",
    "    tokenURI = 'https://akvofoundation.eu.auth0.com/oauth/token'\n",
    "    auth = {\n",
    "        \"client_id\": environ['AUTH0_CLIENT_ID'],\n",
    "        \"username\": environ['FLOW_USERNAME'],\n",
    "        \"password\": environ['FLOW_PASSWORD'],\n",
    "        \"grant_type\": \"password\",\n",
    "        \"scope\": \"openid email\",\n",
    "    }\n",
    "\n",
    "    try:\n",
    "        account = r.post(tokenURI, data=auth).json();\n",
    "    except:\n",
    "        logging.error('FAILED TO REQUEST TOKEN')\n",
    "        return False\n",
    "    return account[\"id_token\"]"
   ]
  },
  {
   "cell_type": "code",
   "execution_count": null,
   "id": "c0154093",
   "metadata": {
    "ExecuteTime": {
     "end_time": "2022-09-15T11:58:37.043258Z",
     "start_time": "2022-09-15T11:58:37.038663Z"
    }
   },
   "outputs": [],
   "source": [
    "def get_response(token, url):\n",
    "    headers = {\n",
    "        \"Content-Type\":\"application/json\",\n",
    "        \"Accept\": \"application/vnd.akvo.flow.v2+json\",\n",
    "        \"Authorization\": \"Bearer {}\".format(token)\n",
    "    }\n",
    "    response = r.get(url, headers=headers).json()\n",
    "    return response"
   ]
  },
  {
   "cell_type": "code",
   "execution_count": null,
   "id": "3af1dedf",
   "metadata": {
    "ExecuteTime": {
     "end_time": "2022-09-15T11:58:37.058016Z",
     "start_time": "2022-09-15T11:58:37.050877Z"
    }
   },
   "outputs": [],
   "source": [
    "def get_folders(token, parent_id = 0):\n",
    "    return get_response(token, f\"{baseURI}/folders?parent_id={parent_id}\")"
   ]
  },
  {
   "cell_type": "code",
   "execution_count": null,
   "id": "70356cab",
   "metadata": {
    "ExecuteTime": {
     "end_time": "2022-09-15T11:58:37.078197Z",
     "start_time": "2022-09-15T11:58:37.061391Z"
    }
   },
   "outputs": [],
   "source": [
    "def get_surveys(token, folder_id = 0):\n",
    "    return get_response(token, f\"{baseURI}/surveys?folder_id={folder_id}\").get(\"surveys\")"
   ]
  },
  {
   "cell_type": "code",
   "execution_count": null,
   "id": "475e091d",
   "metadata": {
    "ExecuteTime": {
     "end_time": "2022-09-15T11:58:37.095473Z",
     "start_time": "2022-09-15T11:58:37.087661Z"
    }
   },
   "outputs": [],
   "source": [
    "def get_forms(token, survey_id):\n",
    "    return get_response(token, f\"{baseURI}/surveys/{survey_id}\").get(\"forms\")"
   ]
  },
  {
   "cell_type": "code",
   "execution_count": null,
   "id": "862c1d04",
   "metadata": {
    "ExecuteTime": {
     "end_time": "2022-09-15T11:58:37.122135Z",
     "start_time": "2022-09-15T11:58:37.109680Z"
    }
   },
   "outputs": [],
   "source": [
    "def get_form_instances(token, survey_id, form_id, limit=False, next_page_url=False, result=[]):\n",
    "    url = f\"{baseURI}/form_instances?survey_id={survey_id}&form_id={form_id}\"\n",
    "    if next_page_url:\n",
    "        url = next_page_url\n",
    "    res = get_response(token, url)\n",
    "    result += res.get(\"formInstances\")\n",
    "    if limit:\n",
    "        if len(result) >= limit:\n",
    "            return result\n",
    "    if res.get(\"nextPageUrl\"):\n",
    "        get_form_instances(token, survey_id, form_id, limit, res.get(\"nextPageUrl\"), result)\n",
    "    return result"
   ]
  },
  {
   "cell_type": "code",
   "execution_count": null,
   "id": "823857b6",
   "metadata": {
    "ExecuteTime": {
     "end_time": "2022-09-15T11:58:38.369610Z",
     "start_time": "2022-09-15T11:58:37.130226Z"
    }
   },
   "outputs": [],
   "source": [
    "token = get_access_token()\n",
    "forms = get_forms(token, SURVEY_ID)\n",
    "form = list(filter(lambda x: int(x[\"id\"]) == FORM_ID, forms))[0]"
   ]
  },
  {
   "cell_type": "code",
   "execution_count": null,
   "id": "6f661c75",
   "metadata": {
    "ExecuteTime": {
     "end_time": "2022-09-15T11:58:43.157576Z",
     "start_time": "2022-09-15T11:58:38.371843Z"
    },
    "scrolled": true
   },
   "outputs": [],
   "source": [
    "form_instances = get_form_instances(token, SURVEY_ID, FORM_ID, limit=LIMIT_DATA)\n",
    "results = parse_data(raw_data=form_instances,form=form,debug=DEBUG_PRINT)"
   ]
  },
  {
   "cell_type": "code",
   "execution_count": null,
   "id": "a105b608",
   "metadata": {
    "ExecuteTime": {
     "end_time": "2022-09-15T11:58:43.164125Z",
     "start_time": "2022-09-15T11:58:43.159424Z"
    },
    "scrolled": false
   },
   "outputs": [],
   "source": [
    "# print(json.dumps(results, indent=1))"
   ]
  },
  {
   "cell_type": "code",
   "execution_count": null,
   "id": "ff2e6e58",
   "metadata": {},
   "outputs": [],
   "source": []
  }
 ],
 "metadata": {
  "kernelspec": {
   "display_name": "Python 3",
   "language": "python",
   "name": "python3"
  },
  "language_info": {
   "codemirror_mode": {
    "name": "ipython",
    "version": 3
   },
   "file_extension": ".py",
   "mimetype": "text/x-python",
   "name": "python",
   "nbconvert_exporter": "python",
   "pygments_lexer": "ipython3",
   "version": "3.8.5"
  },
  "toc": {
   "base_numbering": 1,
   "nav_menu": {},
   "number_sections": true,
   "sideBar": true,
   "skip_h1_title": false,
   "title_cell": "Table of Contents",
   "title_sidebar": "Contents",
   "toc_cell": false,
   "toc_position": {},
   "toc_section_display": true,
   "toc_window_display": false
  }
 },
 "nbformat": 4,
 "nbformat_minor": 5
}
