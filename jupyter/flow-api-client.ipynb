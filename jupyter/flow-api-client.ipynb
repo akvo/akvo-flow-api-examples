{
 "cells": [
  {
   "cell_type": "code",
   "execution_count": null,
   "id": "31eb7c32",
   "metadata": {
    "ExecuteTime": {
     "end_time": "2022-09-14T12:03:00.541953Z",
     "start_time": "2022-09-14T12:03:00.037021Z"
    }
   },
   "outputs": [],
   "source": [
    "from os import environ\n",
    "from flow_handler import flow_handler\n",
    "import requests as r\n",
    "import pandas as pd\n",
    "import logging"
   ]
  },
  {
   "cell_type": "code",
   "execution_count": null,
   "id": "8f3749cd",
   "metadata": {
    "ExecuteTime": {
     "end_time": "2022-09-14T12:03:00.551156Z",
     "start_time": "2022-09-14T12:03:00.544529Z"
    }
   },
   "outputs": [],
   "source": [
    "INSTANCE = \"seap\"\n",
    "# SURVEY ID CAN BE FOUND ON https://webform.akvotest.org/\n",
    "SURVEY_ID = 290080914\n",
    "FORM_ID = 300160915"
   ]
  },
  {
   "cell_type": "code",
   "execution_count": null,
   "id": "73dd9c03",
   "metadata": {
    "ExecuteTime": {
     "end_time": "2022-09-14T12:03:01.118931Z",
     "start_time": "2022-09-14T12:03:01.114993Z"
    }
   },
   "outputs": [],
   "source": [
    "baseURI = f'https://api-auth0.akvo.org/flow/orgs/{INSTANCE}'\n",
    "envs = [\"AUTH0_CLIENT_ID\",\"FLOW_USERNAME\",\"FLOW_PASSWORD\"]\n",
    "for env in envs:\n",
    "    if env not in environ:\n",
    "        logging.error(f\"{env} NOT FOUND\")"
   ]
  },
  {
   "cell_type": "code",
   "execution_count": null,
   "id": "639c2d1e",
   "metadata": {
    "ExecuteTime": {
     "end_time": "2022-09-14T11:59:23.401764Z",
     "start_time": "2022-09-14T11:59:23.396093Z"
    }
   },
   "outputs": [],
   "source": [
    "def get_access_token():\n",
    "    tokenURI = 'https://akvofoundation.eu.auth0.com/oauth/token'\n",
    "    auth = {\n",
    "        \"client_id\": environ['AUTH0_CLIENT_ID'],\n",
    "        \"username\": environ['FLOW_USERNAME'],\n",
    "        \"password\": environ['FLOW_PASSWORD'],\n",
    "        \"grant_type\": \"password\",\n",
    "        \"scope\": \"openid email\",\n",
    "    }\n",
    "\n",
    "    try:\n",
    "        account = r.post(tokenURI, data=auth).json();\n",
    "    except:\n",
    "        logging.error('FAILED TO REQUEST TOKEN')\n",
    "        return False\n",
    "    return account[\"id_token\"]"
   ]
  },
  {
   "cell_type": "code",
   "execution_count": null,
   "id": "5d7fefae",
   "metadata": {
    "ExecuteTime": {
     "end_time": "2022-09-14T11:59:23.409666Z",
     "start_time": "2022-09-14T11:59:23.405929Z"
    }
   },
   "outputs": [],
   "source": [
    "def get_response(token, url):\n",
    "    headers = {\n",
    "        \"Content-Type\":\"application/json\",\n",
    "        \"Accept\": \"application/vnd.akvo.flow.v2+json\",\n",
    "        \"Authorization\": \"Bearer {}\".format(token)\n",
    "    }\n",
    "    response = r.get(url, headers=headers).json()\n",
    "    return response"
   ]
  },
  {
   "cell_type": "code",
   "execution_count": null,
   "id": "c4dfb445",
   "metadata": {
    "ExecuteTime": {
     "end_time": "2022-09-14T11:59:23.417231Z",
     "start_time": "2022-09-14T11:59:23.411868Z"
    }
   },
   "outputs": [],
   "source": [
    "def get_folders(token, parent_id = 0):\n",
    "    return get_response(token, f\"{baseURI}/folders?parent_id={parent_id}\")"
   ]
  },
  {
   "cell_type": "code",
   "execution_count": null,
   "id": "5fa85410",
   "metadata": {
    "ExecuteTime": {
     "end_time": "2022-09-14T11:59:23.423947Z",
     "start_time": "2022-09-14T11:59:23.419610Z"
    }
   },
   "outputs": [],
   "source": [
    "def get_surveys(token, folder_id = 0):\n",
    "    return get_response(token, f\"{baseURI}/surveys?folder_id={folder_id}\").get(\"surveys\")"
   ]
  },
  {
   "cell_type": "code",
   "execution_count": null,
   "id": "86c1e4f7",
   "metadata": {
    "ExecuteTime": {
     "end_time": "2022-09-14T11:59:23.431845Z",
     "start_time": "2022-09-14T11:59:23.429046Z"
    }
   },
   "outputs": [],
   "source": [
    "def get_forms(token, survey_id):\n",
    "    return get_response(token, f\"{baseURI}/surveys/{survey_id}\").get(\"forms\")"
   ]
  },
  {
   "cell_type": "code",
   "execution_count": null,
   "id": "7a468086",
   "metadata": {
    "ExecuteTime": {
     "end_time": "2022-09-14T11:59:23.441079Z",
     "start_time": "2022-09-14T11:59:23.435879Z"
    }
   },
   "outputs": [],
   "source": [
    "def get_form_instances(token, survey_id, form_id, next_page_url=False, result=[]):\n",
    "    url = f\"{baseURI}/form_instances?survey_id={survey_id}&form_id={form_id}\"\n",
    "    if next_page_url:\n",
    "        url = next_page_url\n",
    "    res = get_response(token, url)\n",
    "    result += res.get(\"formInstances\")\n",
    "    if res.get(\"nextPageUrl\"):\n",
    "        get_form_instances(token, survey_id, form_id, res.get(\"nextPageUrl\"), result)\n",
    "    return result"
   ]
  },
  {
   "cell_type": "code",
   "execution_count": null,
   "id": "c5b5354e",
   "metadata": {
    "ExecuteTime": {
     "end_time": "2022-09-14T11:59:24.015142Z",
     "start_time": "2022-09-14T11:59:23.443385Z"
    }
   },
   "outputs": [],
   "source": [
    "token = get_access_token()"
   ]
  },
  {
   "cell_type": "code",
   "execution_count": null,
   "id": "45f1250e",
   "metadata": {
    "ExecuteTime": {
     "end_time": "2022-09-14T11:59:36.118011Z",
     "start_time": "2022-09-14T11:59:24.018088Z"
    },
    "scrolled": true
   },
   "outputs": [],
   "source": [
    "forms = get_forms(token, SURVEY_ID)\n",
    "form_instances = get_form_instances(token, SURVEY_ID, FORM_ID)"
   ]
  },
  {
   "cell_type": "code",
   "execution_count": null,
   "id": "151832b6",
   "metadata": {
    "ExecuteTime": {
     "end_time": "2022-09-14T11:59:36.129905Z",
     "start_time": "2022-09-14T11:59:36.120796Z"
    }
   },
   "outputs": [],
   "source": [
    "form = list(filter(lambda x: int(x[\"id\"]) == FORM_ID, forms))[0]"
   ]
  },
  {
   "cell_type": "code",
   "execution_count": null,
   "id": "2f99e1a7",
   "metadata": {
    "ExecuteTime": {
     "end_time": "2022-09-14T12:01:28.031142Z",
     "start_time": "2022-09-14T12:01:27.759069Z"
    },
    "scrolled": false
   },
   "outputs": [],
   "source": [
    "question_group_list = {}\n",
    "question_list = {}\n",
    "for qg in form.get(\"questionGroups\"):\n",
    "    question_group_list.update({qg[\"id\"]:{\"name\": qg[\"name\"],\"repeatable\": qg[\"repeatable\"]}})\n",
    "    for q in qg.get(\"questions\"):\n",
    "        question_list.update({q[\"id\"]: {\"name\": q[\"name\"],\"type\": q[\"type\"]}})\n",
    "collections = []\n",
    "for form_instance in form_instances:\n",
    "    print(\"___________________________________________________\\n\")\n",
    "    metadata = {}\n",
    "    for meta in form_instance:\n",
    "        if meta != \"responses\":\n",
    "            metadata.update({meta: form_instance[meta]})\n",
    "            print(f\"{meta}: {form_instance[meta]}\")\n",
    "    for qg in question_group_list:\n",
    "        group_name = question_group_list[qg][\"name\"]\n",
    "        print(f\"\\nGROUP: {group_name}\\n\")\n",
    "        data = metadata\n",
    "        data.update({\"group\": group_name})\n",
    "        question_group_responses = form_instance.get(\"responses\").get(qg)\n",
    "        if question_group_responses:\n",
    "            for repeat, responses in enumerate(question_group_responses):\n",
    "                if question_group_list[qg][\"repeatable\"]:\n",
    "                    data.update({\"repeat_index\": repeat})\n",
    "                    print(f\"  REPEAT: {repeat}\\n\")\n",
    "                answers = {}\n",
    "                for qid in responses:\n",
    "                    question = question_list[qid]\n",
    "                    answer = responses[qid]\n",
    "                    answer = flow_handler(answer, question.get(\"type\"))\n",
    "                    question_name = question.get(\"name\")\n",
    "                    answers.update({question_name: answer})\n",
    "                    print(f\"  Q:{question_name}\\n  A:{answer}\\n\")\n",
    "                data.update(answers)\n",
    "                collections.append(data)"
   ]
  },
  {
   "cell_type": "code",
   "execution_count": null,
   "id": "8e935c0b",
   "metadata": {},
   "outputs": [],
   "source": []
  }
 ],
 "metadata": {
  "kernelspec": {
   "display_name": "Python 3",
   "language": "python",
   "name": "python3"
  },
  "language_info": {
   "codemirror_mode": {
    "name": "ipython",
    "version": 3
   },
   "file_extension": ".py",
   "mimetype": "text/x-python",
   "name": "python",
   "nbconvert_exporter": "python",
   "pygments_lexer": "ipython3",
   "version": "3.8.5"
  },
  "toc": {
   "base_numbering": 1,
   "nav_menu": {},
   "number_sections": true,
   "sideBar": true,
   "skip_h1_title": false,
   "title_cell": "Table of Contents",
   "title_sidebar": "Contents",
   "toc_cell": false,
   "toc_position": {},
   "toc_section_display": true,
   "toc_window_display": false
  }
 },
 "nbformat": 4,
 "nbformat_minor": 5
}
